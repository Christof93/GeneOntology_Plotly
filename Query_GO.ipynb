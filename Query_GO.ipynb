{
 "cells": [
  {
   "cell_type": "markdown",
   "metadata": {},
   "source": [
    "# The Gene Ontology Knowledge Graph"
   ]
  },
  {
   "cell_type": "markdown",
   "metadata": {},
   "source": [
    "The Gene Ontology (GO) project is a collaborative effort to address the need for consistent descriptions of gene products across databases. \n",
    "\n",
    "The GO project has developed three structured ontologies that describe gene products in terms of their associated biological processes, cellular components and molecular functions in a species-independent manner.\n",
    "\n",
    "The Gene Ontology project provides controlled vocabularies of defined terms representing gene product properties. These cover three domains: \n",
    "\n",
    "* __Cellular Component__, the parts of a cell or its extracellular environment\n",
    "\n",
    "* __Molecular Function__, the elemental activities of a gene product at the molecular level, such as binding or catalysis\n",
    "\n",
    "* __Biological Process__, operations or sets of molecular events with a defined beginning and end, pertinent to the functioning of integrated living units: cells, tissues, organs, and organisms.\n",
    "\n",
    "So every term that falls into the category Cellular Component can be found in the data and it will have a defined degree of relatedness to this concept."
   ]
  },
  {
   "cell_type": "markdown",
   "metadata": {},
   "source": [
    "![alt text](http://www.emiliosanfilippo.it/wp-content/uploads/2011/11/Ontology.jpg \"What is an ontology?\")"
   ]
  },
  {
   "cell_type": "markdown",
   "metadata": {},
   "source": [
    "On the website of the Gene Ontology Consortium different versions of the ontology can be downloaded. The file is available in XML:OWL format which is a a subformat of RDF designed for ontologies. The raw_file is about 200 mb big. It looks like this:"
   ]
  },
  {
   "cell_type": "code",
   "execution_count": 4,
   "metadata": {
    "collapsed": false
   },
   "outputs": [
    {
     "name": "stdout",
     "output_type": "stream",
     "text": [
      "    <!-- http://purl.obolibrary.org/obo/IAO_0100001 -->\n",
      "\n",
      "\n",
      "\n",
      "    <owl:AnnotationProperty rdf:about=\"http://purl.obolibrary.org/obo/IAO_0100001\">\n",
      "\n",
      "        <rdfs:label rdf:datatype=\"http://www.w3.org/2001/XMLSchema#string\">term replaced by</rdfs:label>\n",
      "\n",
      "    </owl:AnnotationProperty>\n",
      "\n",
      "    \n",
      "\n",
      "\n",
      "\n",
      "\n",
      "\n",
      "    <!-- http://purl.obolibrary.org/obo/RO_0002161 -->\n",
      "\n",
      "\n",
      "\n",
      "    <owl:AnnotationProperty rdf:about=\"http://purl.obolibrary.org/obo/RO_0002161\">\n",
      "\n",
      "        <obo:IAO_0000425 rdf:datatype=\"http://www.w3.org/2001/XMLSchema#string\">Class: ?X DisjointWith: RO_0002162 some ?Y</obo:IAO_0000425>\n",
      "\n",
      "        <oboInOwl:hasDbXref rdf:datatype=\"http://www.w3.org/2001/XMLSchema#string\">RO:0002161</oboInOwl:hasDbXref>\n",
      "\n",
      "        <oboInOwl:hasOBONamespace rdf:datatype=\"http://www.w3.org/2001/XMLSchema#string\">external</oboInOwl:hasOBONamespace>\n",
      "\n"
     ]
    }
   ],
   "source": [
    "with open(\"go-plus.owl\") as raw_file:\n",
    "    for i in range(95):\n",
    "        l=raw_file.next()\n",
    "        if i>80:\n",
    "            print l"
   ]
  },
  {
   "cell_type": "markdown",
   "metadata": {},
   "source": [
    "Since owl is an rdf format we can use the library _rdflib_ to process the Gene Ontology graph. There is an rdf query language called __SPARQL__ which we can use on this graph. It is related to SQL in terms of syntax. Queries are always defined in triples of subject, predicate, object. Where predicates can be of the type relation and subjects and objects of type concept."
   ]
  },
  {
   "cell_type": "code",
   "execution_count": 6,
   "metadata": {
    "collapsed": true
   },
   "outputs": [],
   "source": [
    "import rdflib"
   ]
  },
  {
   "cell_type": "code",
   "execution_count": 12,
   "metadata": {
    "collapsed": false
   },
   "outputs": [
    {
     "data": {
      "text/plain": [
       "<Graph identifier=N716e1fe6ee114fd4afb7f9937c2b025d (<class 'rdflib.graph.Graph'>)>"
      ]
     },
     "execution_count": 12,
     "metadata": {},
     "output_type": "execute_result"
    }
   ],
   "source": [
    "g = rdflib.Graph()\n",
    "g.parse(\"go-plus.owl\")"
   ]
  },
  {
   "cell_type": "markdown",
   "metadata": {},
   "source": [
    "This very simple SPARQL query selects all the possible triplets of subject, predicate and object."
   ]
  },
  {
   "cell_type": "code",
   "execution_count": 6,
   "metadata": {
    "collapsed": false
   },
   "outputs": [],
   "source": [
    "req = g.query(\"\"\"\n",
    "SELECT ?s WHERE { ?s ?p ?o }\n",
    "\"\"\")"
   ]
  },
  {
   "cell_type": "code",
   "execution_count": 7,
   "metadata": {
    "collapsed": false
   },
   "outputs": [
    {
     "name": "stdout",
     "output_type": "stream",
     "text": [
      "1786685\n"
     ]
    }
   ],
   "source": [
    "print len(req)"
   ]
  },
  {
   "cell_type": "code",
   "execution_count": 8,
   "metadata": {
    "collapsed": true
   },
   "outputs": [],
   "source": [
    "req=0"
   ]
  },
  {
   "cell_type": "markdown",
   "metadata": {},
   "source": [
    "It is very slow and memory inefficient to store all triples in a list."
   ]
  },
  {
   "cell_type": "markdown",
   "metadata": {},
   "source": [
    "### Gene annotations\n",
    "The gaf-file is a list of links between human proteins or genes and Gene Ontology concepts. \n",
    ">In GAF 2.1 format, the identifier must reference a top-level primary gene or gene product identifier: either a gene, or a protein that has a 1:1 correspondence to a gene."
   ]
  },
  {
   "cell_type": "code",
   "execution_count": 13,
   "metadata": {
    "collapsed": false
   },
   "outputs": [],
   "source": [
    "from collections import defaultdict\n",
    "annotations=defaultdict(list)\n",
    "with open(\"goa_human.gaf\") as anno_file:\n",
    "    for line in anno_file:\n",
    "        if not line.startswith(\"!\"):\n",
    "            d=line.split(\"\\t\")\n",
    "            annotations[d[1]].append(d)"
   ]
  },
  {
   "cell_type": "code",
   "execution_count": 14,
   "metadata": {
    "collapsed": false
   },
   "outputs": [
    {
     "name": "stdout",
     "output_type": "stream",
     "text": [
      "19486\n"
     ]
    }
   ],
   "source": [
    "print len(annotations)\n"
   ]
  },
  {
   "cell_type": "code",
   "execution_count": 15,
   "metadata": {
    "collapsed": false,
    "scrolled": true
   },
   "outputs": [
    {
     "name": "stdout",
     "output_type": "stream",
     "text": [
      "Average terms per gene/protein: 22.5355639947\n",
      "\n",
      "First 3 annotations for the Uniprot protein Alpha-2-macroglobulin (P01023):\n",
      "---------------------\n",
      "UniProtKB, P01023, A2M, , GO:0001869, PMID:12538697, IDA, , P, Alpha-2-macroglobulin, A2MG_HUMAN|A2M|CPAMD5|FWP007, protein, taxon:9606, 20090415, UniProt, , \n",
      "\n",
      "\n",
      "UniProtKB, P01023, A2M, , GO:0002020, PMID:18485748, IPI, UniProtKB:P58397, F, Alpha-2-macroglobulin, A2MG_HUMAN|A2M|CPAMD5|FWP007, protein, taxon:9606, 20131206, BHF-UCL, , \n",
      "\n",
      "\n",
      "UniProtKB, P01023, A2M, , GO:0002020, PMID:18485748, IPI, UniProtKB:Q9UKP4, F, Alpha-2-macroglobulin, A2MG_HUMAN|A2M|CPAMD5|FWP007, protein, taxon:9606, 20131206, BHF-UCL, , \n",
      "\n"
     ]
    }
   ],
   "source": [
    "import numpy as np\n",
    "print \"Average terms per gene/protein:\",np.mean([len(ann) for key,ann in annotations.items()])\n",
    "print \n",
    "print \"First 3 annotations for the Uniprot protein Alpha-2-macroglobulin (P01023):\\n---------------------\"\n",
    "print \"\\n\\n\".join([\", \".join(l) for l in annotations[\"P01023\"][:3]])"
   ]
  },
  {
   "cell_type": "code",
   "execution_count": 16,
   "metadata": {
    "collapsed": false
   },
   "outputs": [],
   "source": [
    "req2= g.query(\"\"\"\n",
    "    SELECT DISTINCT ?s WHERE { ?s ?p ?o } LIMIT 10\n",
    "    \"\"\")"
   ]
  },
  {
   "cell_type": "code",
   "execution_count": 17,
   "metadata": {
    "collapsed": false
   },
   "outputs": [
    {
     "name": "stdout",
     "output_type": "stream",
     "text": [
      "Na5aac9bfb83f48f0a92c504f81967f25\n",
      "http://purl.obolibrary.org/obo/GO_0070965\n",
      "http://purl.obolibrary.org/obo/GO_0008379\n",
      "N43e18c50be2e45e9abc9ba81da7c8e12\n",
      "Nac559f96344843148ae88af3d77d8c8e\n",
      "Na68c6c88a91e4770b2215855b3f1e9d8\n",
      "http://purl.obolibrary.org/obo/CHEBI_25418\n",
      "http://purl.obolibrary.org/obo/GO_0036032\n",
      "N8f61bc9a0ac54df3a1a62076d7189ddb\n",
      "N861c2ebbfe4b49419297e7ae5d7fbde0\n"
     ]
    }
   ],
   "source": [
    "for s in req2:\n",
    "    print s[0]"
   ]
  },
  {
   "cell_type": "code",
   "execution_count": 18,
   "metadata": {
    "collapsed": false
   },
   "outputs": [],
   "source": [
    "def get_description(GO_id):\n",
    "    my_id=GO_id.replace(\":\",\"_\")\n",
    "    desc=\"http://purl.obolibrary.org/obo/IAO_0000115\"\n",
    "    req= g.query(\"\"\"\n",
    "    SELECT ?description WHERE\n",
    "    {{<http://purl.obolibrary.org/obo/{}> <{}> ?description}}\n",
    "    \"\"\".format(my_id,desc))\n",
    "    return [d for d in req][0][0]"
   ]
  },
  {
   "cell_type": "code",
   "execution_count": 19,
   "metadata": {
    "collapsed": true
   },
   "outputs": [],
   "source": [
    "def get_label(GO_id):\n",
    "    my_id=GO_id.replace(\":\",\"_\")\n",
    "    req= g.query(\"\"\"\n",
    "    SELECT ?description WHERE\n",
    "    {{<http://purl.obolibrary.org/obo/{}> <http://www.w3.org/2000/01/rdf-schema#label> ?description}}\n",
    "    \"\"\".format(my_id))\n",
    "    return [d for d in req][0][0]"
   ]
  },
  {
   "cell_type": "code",
   "execution_count": 20,
   "metadata": {
    "collapsed": false
   },
   "outputs": [
    {
     "name": "stdout",
     "output_type": "stream",
     "text": [
      "transcription, DNA-templated\n",
      "The cellular synthesis of RNA on a template of DNA.\n"
     ]
    }
   ],
   "source": [
    "print get_label(\"GO:0006351\")\n",
    "print get_description(\"GO:0006351\")"
   ]
  },
  {
   "cell_type": "code",
   "execution_count": 21,
   "metadata": {
    "collapsed": true
   },
   "outputs": [],
   "source": [
    "def get_subclasses(GO_id):\n",
    "    my_id=GO_id.replace(\":\",\"_\")\n",
    "    req= g.query(\"\"\"\n",
    "    SELECT ?class WHERE\n",
    "    {{\n",
    "    ?class <http://www.w3.org/2000/01/rdf-schema#subClassOf> <http://purl.obolibrary.org/obo/{}>.\n",
    "    }}\n",
    "    \"\"\".format(my_id))\n",
    "    return [str(d[0]) for d in req if type(d[0])==rdflib.term.URIRef]"
   ]
  },
  {
   "cell_type": "code",
   "execution_count": 22,
   "metadata": {
    "collapsed": true
   },
   "outputs": [],
   "source": [
    "def get_superclasses(GO_id):\n",
    "    my_id=GO_id.replace(\":\",\"_\")\n",
    "    req= g.query(\"\"\"\n",
    "    SELECT ?class WHERE\n",
    "    {{\n",
    "     <http://purl.obolibrary.org/obo/{}> <http://www.w3.org/2000/01/rdf-schema#subClassOf> ?class.\n",
    "    }}\n",
    "    \"\"\".format(my_id))\n",
    "    return [str(d[0]) for d in req if type(d[0])==rdflib.term.URIRef]"
   ]
  },
  {
   "cell_type": "code",
   "execution_count": 23,
   "metadata": {
    "collapsed": false,
    "scrolled": true
   },
   "outputs": [
    {
     "name": "stdout",
     "output_type": "stream",
     "text": [
      "http://purl.obolibrary.org/obo/GO_0098781\n",
      "http://purl.obolibrary.org/obo/GO_0006360\n",
      "http://purl.obolibrary.org/obo/GO_0009299\n",
      "http://purl.obolibrary.org/obo/GO_0006390\n",
      "http://purl.obolibrary.org/obo/GO_0009300\n",
      "http://purl.obolibrary.org/obo/GO_0001059\n",
      "http://purl.obolibrary.org/obo/GO_0097393\n",
      "http://purl.obolibrary.org/obo/GO_0042793\n",
      "http://purl.obolibrary.org/obo/GO_0006383\n",
      "http://purl.obolibrary.org/obo/GO_0006366\n",
      "http://purl.obolibrary.org/obo/GO_0001121\n",
      "http://purl.obolibrary.org/obo/GO_0001060\n"
     ]
    }
   ],
   "source": [
    "for sub in get_subclasses(\"GO:0006351\"):\n",
    "    print sub"
   ]
  },
  {
   "cell_type": "code",
   "execution_count": 24,
   "metadata": {
    "collapsed": false
   },
   "outputs": [
    {
     "name": "stdout",
     "output_type": "stream",
     "text": [
      "http://purl.obolibrary.org/obo/GO_0034645\n",
      "http://purl.obolibrary.org/obo/GO_0097659\n"
     ]
    }
   ],
   "source": [
    "for sup in get_superclasses(\"GO:0006351\"):\n",
    "    print sup"
   ]
  },
  {
   "cell_type": "code",
   "execution_count": 25,
   "metadata": {
    "collapsed": false
   },
   "outputs": [],
   "source": [
    "import networkx as nx\n",
    "import itertools\n",
    "\n",
    "def create_close_graph(GO_id,sub_vic,sup_vic):\n",
    "    G = nx.Graph()\n",
    "    my_id=\"http://purl.obolibrary.org/obo/\"+GO_id.replace(\":\",\"_\")\n",
    "    max_lev=sub_vic+sup_vic+1\n",
    "    max_w=0\n",
    "    G.add_node(my_id,level=0,order=0,pos=[0.5,(sub_vic+1)*(1.0/max_lev)],info=get_label(GO_id)+\"<br>\"+get_description(GO_id))\n",
    "    temp_sub_classes=[my_id]\n",
    "    for i in range(sub_vic):\n",
    "        new_classes=[]\n",
    "        for cl in temp_sub_classes:\n",
    "            sub=get_subclasses(cl.split(\"/\")[-1])\n",
    "            new_classes.append((cl,sub))\n",
    "        \n",
    "        new_classes_all=list(itertools.chain(*[s for c,s in new_classes]))\n",
    "        max_w=len(new_classes_all)\n",
    "        ind=0\n",
    "        for c,sub_c in new_classes:\n",
    "            for k,s in enumerate(sub_c):\n",
    "                ind+=1\n",
    "                G.add_node(s,level=(i+1),pos=(ind*(1.0/(max_w+1)),(sub_vic-i)*(1.0/max_lev)),info=get_label(s.split(\"/\")[-1]))\n",
    "                G.add_edge(c,s)\n",
    "                \n",
    "        temp_sub_classes=new_classes_all\n",
    "    \n",
    "\n",
    "    temp_sup_classes=[my_id]\n",
    "    for i in range(sup_vic):\n",
    "        new_classes=[]\n",
    "        for cl in temp_sup_classes:\n",
    "            sup=get_superclasses(cl.split(\"/\")[-1])\n",
    "            new_classes.append((cl,sup))\n",
    "        \n",
    "        new_classes_all=list(itertools.chain(*[s for c,s in new_classes]))\n",
    "        max_w=len(new_classes_all)\n",
    "        ind=0\n",
    "        for c,sup_c in new_classes:\n",
    "            for k,s in enumerate(sup_c):\n",
    "                ind+=1\n",
    "                G.add_node(s,level=(i+1)*-1,pos=(ind*(1.0/(max_w+1)),(i+sub_vic+2)*(1.0/max_lev)),info=get_label(s.split(\"/\")[-1]))\n",
    "                G.add_edge(c,s)\n",
    "                \n",
    "        temp_sup_classes=new_classes_all\n",
    "        \n",
    "    return G"
   ]
  },
  {
   "cell_type": "code",
   "execution_count": 26,
   "metadata": {
    "collapsed": false
   },
   "outputs": [],
   "source": [
    "graph=create_close_graph(\"GO:0006351\",sup_vic=3,sub_vic=1)"
   ]
  },
  {
   "cell_type": "code",
   "execution_count": 27,
   "metadata": {
    "collapsed": false
   },
   "outputs": [
    {
     "data": {
      "text/plain": [
       "['http://purl.obolibrary.org/obo/GO_0001059',\n",
       " 'http://purl.obolibrary.org/obo/GO_0009058',\n",
       " 'http://purl.obolibrary.org/obo/GO_0009059',\n",
       " 'http://purl.obolibrary.org/obo/GO_1901576',\n",
       " 'http://purl.obolibrary.org/obo/GO_0016070',\n",
       " 'http://purl.obolibrary.org/obo/GO_0001121',\n",
       " 'http://purl.obolibrary.org/obo/GO_0006360',\n",
       " 'http://purl.obolibrary.org/obo/GO_0006366',\n",
       " 'http://purl.obolibrary.org/obo/GO_0097393',\n",
       " 'http://purl.obolibrary.org/obo/GO_0034654',\n",
       " 'http://purl.obolibrary.org/obo/GO_0044237',\n",
       " 'http://purl.obolibrary.org/obo/GO_0006390',\n",
       " 'http://purl.obolibrary.org/obo/GO_0009299',\n",
       " 'http://purl.obolibrary.org/obo/GO_0009300',\n",
       " 'http://purl.obolibrary.org/obo/GO_0097659',\n",
       " 'http://purl.obolibrary.org/obo/GO_0001060',\n",
       " 'http://purl.obolibrary.org/obo/GO_0042793',\n",
       " 'http://purl.obolibrary.org/obo/GO_0098781',\n",
       " 'http://purl.obolibrary.org/obo/GO_0006351',\n",
       " 'http://purl.obolibrary.org/obo/GO_0034645',\n",
       " 'http://purl.obolibrary.org/obo/GO_0044260',\n",
       " 'http://purl.obolibrary.org/obo/GO_0044249',\n",
       " 'http://purl.obolibrary.org/obo/GO_0006383',\n",
       " 'http://purl.obolibrary.org/obo/GO_0032774',\n",
       " 'http://purl.obolibrary.org/obo/GO_0043170']"
      ]
     },
     "execution_count": 27,
     "metadata": {},
     "output_type": "execute_result"
    }
   ],
   "source": [
    "graph.nodes()"
   ]
  },
  {
   "cell_type": "code",
   "execution_count": 28,
   "metadata": {
    "collapsed": false
   },
   "outputs": [
    {
     "data": {
      "text/html": [
       "<script>requirejs.config({paths: { 'plotly': ['https://cdn.plot.ly/plotly-latest.min']},});if(!window.Plotly) {{require(['plotly'],function(plotly) {window.Plotly=plotly;});}}</script>"
      ],
      "text/vnd.plotly.v1+html": [
       "<script>requirejs.config({paths: { 'plotly': ['https://cdn.plot.ly/plotly-latest.min']},});if(!window.Plotly) {{require(['plotly'],function(plotly) {window.Plotly=plotly;});}}</script>"
      ]
     },
     "metadata": {},
     "output_type": "display_data"
    }
   ],
   "source": [
    "from plotly.offline import download_plotlyjs, init_notebook_mode, plot, iplot\n",
    "from plotly.graph_objs import *\n",
    "init_notebook_mode(connected=True)"
   ]
  },
  {
   "cell_type": "code",
   "execution_count": 29,
   "metadata": {
    "collapsed": false
   },
   "outputs": [],
   "source": [
    "def visualize_go_term(G):\n",
    "    edge_trace = Scatter(\n",
    "        x=[],\n",
    "        y=[],\n",
    "        line=Line(width=0.5,color='#888'),\n",
    "        hoverinfo='none',\n",
    "        mode='lines')\n",
    "\n",
    "    for edge in G.edges():\n",
    "        x0, y0 = G.node[edge[0]]['pos']\n",
    "        x1, y1 = G.node[edge[1]]['pos']\n",
    "        edge_trace['x'] += [x0, x1, None]\n",
    "        edge_trace['y'] += [y0, y1, None]\n",
    "\n",
    "    node_trace = Scatter(\n",
    "        x=[],\n",
    "        y=[],\n",
    "        text=[],\n",
    "        mode='markers',\n",
    "        hoverinfo='text',\n",
    "        marker=Marker(\n",
    "        colorscale='Viridis',\n",
    "        reversescale=True,\n",
    "        color=[],\n",
    "        size=10,\n",
    "        line=dict(width=2)))\n",
    "        \n",
    "    \n",
    "    for node in G.nodes():\n",
    "        x, y = G.node[node]['pos']\n",
    "        node_trace['marker']['color'].append(G.node[node]['level'])\n",
    "        node_trace['text'].append(G.node[node]['info'])\n",
    "        node_trace['x'].append(x)\n",
    "        node_trace['y'].append(y)\n",
    "    \n",
    "        \n",
    "    fig = Figure(data=Data([edge_trace, node_trace]),\n",
    "             layout=Layout(\n",
    "                title='<br>Network of related terms in Gene Ontology',\n",
    "                titlefont=dict(size=16),\n",
    "                showlegend=False,\n",
    "                hovermode='closest',\n",
    "                margin=dict(b=20,l=5,r=5,t=50),\n",
    "                annotations=[ ],\n",
    "                xaxis=XAxis(showgrid=False, zeroline=False, showticklabels=False),\n",
    "                yaxis=YAxis(showgrid=False, zeroline=False, showticklabels=False)))\n",
    "\n",
    "    iplot(fig, filename='networkx')"
   ]
  },
  {
   "cell_type": "code",
   "execution_count": 30,
   "metadata": {
    "collapsed": false
   },
   "outputs": [
    {
     "data": {
      "application/vnd.plotly.v1+json": {
       "data": [
        {
         "hoverinfo": "none",
         "line": {
          "color": "#888",
          "width": 0.5
         },
         "mode": "lines",
         "type": "scatter",
         "x": [
          0.46153846153846156,
          0.5,
          null,
          0.4,
          0.4,
          null,
          0.9,
          0.1,
          null,
          0.9,
          0.3333333333333333,
          null,
          0.9,
          0.6000000000000001,
          null,
          0.9,
          0.8,
          null,
          0.8,
          0.8,
          null,
          0.8461538461538463,
          0.5,
          null,
          0.15384615384615385,
          0.5,
          null,
          0.7692307692307693,
          0.5,
          null,
          0.5384615384615385,
          0.5,
          null,
          0.7000000000000001,
          0.8,
          null,
          0.5,
          0.6000000000000001,
          null,
          0.5,
          0.4,
          null,
          0.3076923076923077,
          0.5,
          null,
          0.23076923076923078,
          0.5,
          null,
          0.38461538461538464,
          0.5,
          null,
          0.6666666666666666,
          0.8,
          null,
          0.6666666666666666,
          0.5,
          null,
          0.9230769230769231,
          0.5,
          null,
          0.6153846153846154,
          0.5,
          null,
          0.07692307692307693,
          0.5,
          null,
          0.5,
          0.3333333333333333,
          null,
          0.5,
          0.6923076923076923,
          null,
          0.3333333333333333,
          0.6000000000000001,
          null,
          0.3333333333333333,
          0.4,
          null,
          0.6000000000000001,
          0.6000000000000001,
          null
         ],
         "y": [
          0.2,
          0.4,
          null,
          1,
          0.8,
          null,
          1,
          1,
          null,
          1,
          0.6000000000000001,
          null,
          1,
          1,
          null,
          1,
          0.8,
          null,
          1,
          0.8,
          null,
          0.2,
          0.4,
          null,
          0.2,
          0.4,
          null,
          0.2,
          0.4,
          null,
          0.2,
          0.4,
          null,
          1,
          0.8,
          null,
          1,
          0.8,
          null,
          1,
          0.8,
          null,
          0.2,
          0.4,
          null,
          0.2,
          0.4,
          null,
          0.2,
          0.4,
          null,
          0.6000000000000001,
          0.8,
          null,
          0.6000000000000001,
          0.4,
          null,
          0.2,
          0.4,
          null,
          0.2,
          0.4,
          null,
          0.2,
          0.4,
          null,
          0.4,
          0.6000000000000001,
          null,
          0.4,
          0.2,
          null,
          0.6000000000000001,
          0.8,
          null,
          0.6000000000000001,
          0.8,
          null,
          0.8,
          1,
          null
         ]
        },
        {
         "hoverinfo": "text",
         "marker": {
          "color": [
           1,
           -3,
           -3,
           -3,
           -3,
           1,
           1,
           1,
           1,
           -3,
           -3,
           1,
           1,
           1,
           -1,
           1,
           1,
           1,
           0,
           -1,
           -2,
           -2,
           1,
           -2,
           -3
          ],
          "colorscale": "Viridis",
          "line": {
           "width": 2
          },
          "reversescale": true,
          "size": 10
         },
         "mode": "markers",
         "text": [
          "transcription from RNA polymerase IV promoter",
          "biosynthetic process",
          "macromolecule biosynthetic process",
          "organic substance biosynthetic process",
          "RNA metabolic process",
          "transcription from bacterial-type RNA polymerase promoter",
          "transcription from RNA polymerase I promoter",
          "transcription from RNA polymerase II promoter",
          "telomeric repeat-containing RNA transcription",
          "nucleobase-containing compound biosynthetic process",
          "cellular metabolic process",
          "transcription from mitochondrial promoter",
          "mRNA transcription",
          "antisense RNA transcription",
          "nucleic acid-templated transcription",
          "transcription from RNA polymerase V promoter",
          "transcription from plastid promoter",
          "ncRNA transcription",
          "transcription, DNA-templated<br>The cellular synthesis of RNA on a template of DNA.",
          "cellular macromolecule biosynthetic process",
          "cellular macromolecule metabolic process",
          "cellular biosynthetic process",
          "transcription from RNA polymerase III promoter",
          "RNA biosynthetic process",
          "macromolecule metabolic process"
         ],
         "type": "scatter",
         "x": [
          0.46153846153846156,
          0.4,
          0.9,
          0.1,
          0.8,
          0.8461538461538463,
          0.15384615384615385,
          0.7692307692307693,
          0.5384615384615385,
          0.7000000000000001,
          0.5,
          0.3076923076923077,
          0.23076923076923078,
          0.38461538461538464,
          0.6666666666666666,
          0.9230769230769231,
          0.6153846153846154,
          0.07692307692307693,
          0.5,
          0.3333333333333333,
          0.6000000000000001,
          0.4,
          0.6923076923076923,
          0.8,
          0.6000000000000001
         ],
         "y": [
          0.2,
          1,
          1,
          1,
          1,
          0.2,
          0.2,
          0.2,
          0.2,
          1,
          1,
          0.2,
          0.2,
          0.2,
          0.6000000000000001,
          0.2,
          0.2,
          0.2,
          0.4,
          0.6000000000000001,
          0.8,
          0.8,
          0.2,
          0.8,
          1
         ]
        }
       ],
       "layout": {
        "annotations": [],
        "hovermode": "closest",
        "margin": {
         "b": 20,
         "l": 5,
         "r": 5,
         "t": 50
        },
        "showlegend": false,
        "title": "<br>Network of related terms in Gene Ontology",
        "titlefont": {
         "size": 16
        },
        "xaxis": {
         "showgrid": false,
         "showticklabels": false,
         "zeroline": false
        },
        "yaxis": {
         "showgrid": false,
         "showticklabels": false,
         "zeroline": false
        }
       }
      },
      "text/html": [
       "<div id=\"c65c0872-da32-47a2-9918-ae310b5bdac0\" style=\"height: 525px; width: 100%;\" class=\"plotly-graph-div\"></div><script type=\"text/javascript\">require([\"plotly\"], function(Plotly) { window.PLOTLYENV=window.PLOTLYENV || {};window.PLOTLYENV.BASE_URL=\"https://plot.ly\";Plotly.newPlot(\"c65c0872-da32-47a2-9918-ae310b5bdac0\", [{\"mode\": \"lines\", \"hoverinfo\": \"none\", \"y\": [0.2, 0.4, null, 1.0, 0.8, null, 1.0, 1.0, null, 1.0, 0.6000000000000001, null, 1.0, 1.0, null, 1.0, 0.8, null, 1.0, 0.8, null, 0.2, 0.4, null, 0.2, 0.4, null, 0.2, 0.4, null, 0.2, 0.4, null, 1.0, 0.8, null, 1.0, 0.8, null, 1.0, 0.8, null, 0.2, 0.4, null, 0.2, 0.4, null, 0.2, 0.4, null, 0.6000000000000001, 0.8, null, 0.6000000000000001, 0.4, null, 0.2, 0.4, null, 0.2, 0.4, null, 0.2, 0.4, null, 0.4, 0.6000000000000001, null, 0.4, 0.2, null, 0.6000000000000001, 0.8, null, 0.6000000000000001, 0.8, null, 0.8, 1.0, null], \"x\": [0.46153846153846156, 0.5, null, 0.4, 0.4, null, 0.9, 0.1, null, 0.9, 0.3333333333333333, null, 0.9, 0.6000000000000001, null, 0.9, 0.8, null, 0.8, 0.8, null, 0.8461538461538463, 0.5, null, 0.15384615384615385, 0.5, null, 0.7692307692307693, 0.5, null, 0.5384615384615385, 0.5, null, 0.7000000000000001, 0.8, null, 0.5, 0.6000000000000001, null, 0.5, 0.4, null, 0.3076923076923077, 0.5, null, 0.23076923076923078, 0.5, null, 0.38461538461538464, 0.5, null, 0.6666666666666666, 0.8, null, 0.6666666666666666, 0.5, null, 0.9230769230769231, 0.5, null, 0.6153846153846154, 0.5, null, 0.07692307692307693, 0.5, null, 0.5, 0.3333333333333333, null, 0.5, 0.6923076923076923, null, 0.3333333333333333, 0.6000000000000001, null, 0.3333333333333333, 0.4, null, 0.6000000000000001, 0.6000000000000001, null], \"line\": {\"color\": \"#888\", \"width\": 0.5}, \"type\": \"scatter\"}, {\"text\": [\"transcription from RNA polymerase IV promoter\", \"biosynthetic process\", \"macromolecule biosynthetic process\", \"organic substance biosynthetic process\", \"RNA metabolic process\", \"transcription from bacterial-type RNA polymerase promoter\", \"transcription from RNA polymerase I promoter\", \"transcription from RNA polymerase II promoter\", \"telomeric repeat-containing RNA transcription\", \"nucleobase-containing compound biosynthetic process\", \"cellular metabolic process\", \"transcription from mitochondrial promoter\", \"mRNA transcription\", \"antisense RNA transcription\", \"nucleic acid-templated transcription\", \"transcription from RNA polymerase V promoter\", \"transcription from plastid promoter\", \"ncRNA transcription\", \"transcription, DNA-templated<br>The cellular synthesis of RNA on a template of DNA.\", \"cellular macromolecule biosynthetic process\", \"cellular macromolecule metabolic process\", \"cellular biosynthetic process\", \"transcription from RNA polymerase III promoter\", \"RNA biosynthetic process\", \"macromolecule metabolic process\"], \"marker\": {\"color\": [1, -3, -3, -3, -3, 1, 1, 1, 1, -3, -3, 1, 1, 1, -1, 1, 1, 1, 0, -1, -2, -2, 1, -2, -3], \"reversescale\": true, \"line\": {\"width\": 2}, \"colorscale\": \"Viridis\", \"size\": 10}, \"mode\": \"markers\", \"hoverinfo\": \"text\", \"y\": [0.2, 1.0, 1.0, 1.0, 1.0, 0.2, 0.2, 0.2, 0.2, 1.0, 1.0, 0.2, 0.2, 0.2, 0.6000000000000001, 0.2, 0.2, 0.2, 0.4, 0.6000000000000001, 0.8, 0.8, 0.2, 0.8, 1.0], \"x\": [0.46153846153846156, 0.4, 0.9, 0.1, 0.8, 0.8461538461538463, 0.15384615384615385, 0.7692307692307693, 0.5384615384615385, 0.7000000000000001, 0.5, 0.3076923076923077, 0.23076923076923078, 0.38461538461538464, 0.6666666666666666, 0.9230769230769231, 0.6153846153846154, 0.07692307692307693, 0.5, 0.3333333333333333, 0.6000000000000001, 0.4, 0.6923076923076923, 0.8, 0.6000000000000001], \"type\": \"scatter\"}], {\"showlegend\": false, \"yaxis\": {\"zeroline\": false, \"showticklabels\": false, \"showgrid\": false}, \"title\": \"<br>Network of related terms in Gene Ontology\", \"titlefont\": {\"size\": 16}, \"xaxis\": {\"zeroline\": false, \"showticklabels\": false, \"showgrid\": false}, \"hovermode\": \"closest\", \"margin\": {\"r\": 5, \"b\": 20, \"t\": 50, \"l\": 5}, \"annotations\": []}, {\"linkText\": \"Export to plot.ly\", \"showLink\": true})});</script>"
      ],
      "text/vnd.plotly.v1+html": [
       "<div id=\"c65c0872-da32-47a2-9918-ae310b5bdac0\" style=\"height: 525px; width: 100%;\" class=\"plotly-graph-div\"></div><script type=\"text/javascript\">require([\"plotly\"], function(Plotly) { window.PLOTLYENV=window.PLOTLYENV || {};window.PLOTLYENV.BASE_URL=\"https://plot.ly\";Plotly.newPlot(\"c65c0872-da32-47a2-9918-ae310b5bdac0\", [{\"mode\": \"lines\", \"hoverinfo\": \"none\", \"y\": [0.2, 0.4, null, 1.0, 0.8, null, 1.0, 1.0, null, 1.0, 0.6000000000000001, null, 1.0, 1.0, null, 1.0, 0.8, null, 1.0, 0.8, null, 0.2, 0.4, null, 0.2, 0.4, null, 0.2, 0.4, null, 0.2, 0.4, null, 1.0, 0.8, null, 1.0, 0.8, null, 1.0, 0.8, null, 0.2, 0.4, null, 0.2, 0.4, null, 0.2, 0.4, null, 0.6000000000000001, 0.8, null, 0.6000000000000001, 0.4, null, 0.2, 0.4, null, 0.2, 0.4, null, 0.2, 0.4, null, 0.4, 0.6000000000000001, null, 0.4, 0.2, null, 0.6000000000000001, 0.8, null, 0.6000000000000001, 0.8, null, 0.8, 1.0, null], \"x\": [0.46153846153846156, 0.5, null, 0.4, 0.4, null, 0.9, 0.1, null, 0.9, 0.3333333333333333, null, 0.9, 0.6000000000000001, null, 0.9, 0.8, null, 0.8, 0.8, null, 0.8461538461538463, 0.5, null, 0.15384615384615385, 0.5, null, 0.7692307692307693, 0.5, null, 0.5384615384615385, 0.5, null, 0.7000000000000001, 0.8, null, 0.5, 0.6000000000000001, null, 0.5, 0.4, null, 0.3076923076923077, 0.5, null, 0.23076923076923078, 0.5, null, 0.38461538461538464, 0.5, null, 0.6666666666666666, 0.8, null, 0.6666666666666666, 0.5, null, 0.9230769230769231, 0.5, null, 0.6153846153846154, 0.5, null, 0.07692307692307693, 0.5, null, 0.5, 0.3333333333333333, null, 0.5, 0.6923076923076923, null, 0.3333333333333333, 0.6000000000000001, null, 0.3333333333333333, 0.4, null, 0.6000000000000001, 0.6000000000000001, null], \"line\": {\"color\": \"#888\", \"width\": 0.5}, \"type\": \"scatter\"}, {\"text\": [\"transcription from RNA polymerase IV promoter\", \"biosynthetic process\", \"macromolecule biosynthetic process\", \"organic substance biosynthetic process\", \"RNA metabolic process\", \"transcription from bacterial-type RNA polymerase promoter\", \"transcription from RNA polymerase I promoter\", \"transcription from RNA polymerase II promoter\", \"telomeric repeat-containing RNA transcription\", \"nucleobase-containing compound biosynthetic process\", \"cellular metabolic process\", \"transcription from mitochondrial promoter\", \"mRNA transcription\", \"antisense RNA transcription\", \"nucleic acid-templated transcription\", \"transcription from RNA polymerase V promoter\", \"transcription from plastid promoter\", \"ncRNA transcription\", \"transcription, DNA-templated<br>The cellular synthesis of RNA on a template of DNA.\", \"cellular macromolecule biosynthetic process\", \"cellular macromolecule metabolic process\", \"cellular biosynthetic process\", \"transcription from RNA polymerase III promoter\", \"RNA biosynthetic process\", \"macromolecule metabolic process\"], \"marker\": {\"color\": [1, -3, -3, -3, -3, 1, 1, 1, 1, -3, -3, 1, 1, 1, -1, 1, 1, 1, 0, -1, -2, -2, 1, -2, -3], \"reversescale\": true, \"line\": {\"width\": 2}, \"colorscale\": \"Viridis\", \"size\": 10}, \"mode\": \"markers\", \"hoverinfo\": \"text\", \"y\": [0.2, 1.0, 1.0, 1.0, 1.0, 0.2, 0.2, 0.2, 0.2, 1.0, 1.0, 0.2, 0.2, 0.2, 0.6000000000000001, 0.2, 0.2, 0.2, 0.4, 0.6000000000000001, 0.8, 0.8, 0.2, 0.8, 1.0], \"x\": [0.46153846153846156, 0.4, 0.9, 0.1, 0.8, 0.8461538461538463, 0.15384615384615385, 0.7692307692307693, 0.5384615384615385, 0.7000000000000001, 0.5, 0.3076923076923077, 0.23076923076923078, 0.38461538461538464, 0.6666666666666666, 0.9230769230769231, 0.6153846153846154, 0.07692307692307693, 0.5, 0.3333333333333333, 0.6000000000000001, 0.4, 0.6923076923076923, 0.8, 0.6000000000000001], \"type\": \"scatter\"}], {\"showlegend\": false, \"yaxis\": {\"zeroline\": false, \"showticklabels\": false, \"showgrid\": false}, \"title\": \"<br>Network of related terms in Gene Ontology\", \"titlefont\": {\"size\": 16}, \"xaxis\": {\"zeroline\": false, \"showticklabels\": false, \"showgrid\": false}, \"hovermode\": \"closest\", \"margin\": {\"r\": 5, \"b\": 20, \"t\": 50, \"l\": 5}, \"annotations\": []}, {\"linkText\": \"Export to plot.ly\", \"showLink\": true})});</script>"
      ]
     },
     "metadata": {},
     "output_type": "display_data"
    }
   ],
   "source": [
    "visualize_go_term(graph)"
   ]
  },
  {
   "cell_type": "code",
   "execution_count": 31,
   "metadata": {
    "collapsed": false
   },
   "outputs": [],
   "source": [
    "def inspect_annotations(anns,UniProt_id=None):\n",
    "    if not UniProt_id:\n",
    "        gene_id=np.random.choice(anns.keys())\n",
    "    else:\n",
    "        gene_id=UniProt_id\n",
    "    rel_terms=[a for a in annotations[gene_id]]\n",
    "    \n",
    "    print \"found\",len(rel_terms),\" GO annotations for term\",rel_terms[0][9],\"(\"+rel_terms[0][1]+\")!\"\n",
    "    print \"graph representations produced!\",\n",
    "    rel_graphs=[create_close_graph(term[4],sup_vic=2,sub_vic=1) for term in rel_terms]\n",
    "    return iter(rel_graphs)"
   ]
  },
  {
   "cell_type": "code",
   "execution_count": 32,
   "metadata": {
    "collapsed": false
   },
   "outputs": [
    {
     "name": "stdout",
     "output_type": "stream",
     "text": [
      "found 8  GO annotations for term Olfactory receptor 5K4 (A6NMS3)!\n",
      "graph representations produced!\n"
     ]
    }
   ],
   "source": [
    "graphs=inspect_annotations(annotations,\"A6NMS3\")"
   ]
  },
  {
   "cell_type": "code",
   "execution_count": 33,
   "metadata": {
    "collapsed": false
   },
   "outputs": [
    {
     "data": {
      "application/vnd.plotly.v1+json": {
       "data": [
        {
         "hoverinfo": "none",
         "line": {
          "color": "#888",
          "width": 0.5
         },
         "mode": "lines",
         "type": "scatter",
         "x": [
          0.6666666666666666,
          0.5,
          null,
          0.7857142857142857,
          0.5,
          null,
          0.47619047619047616,
          0.5,
          null,
          0.38095238095238093,
          0.5,
          null,
          0.6666666666666666,
          0.5,
          null,
          0.45238095238095233,
          0.5,
          null,
          0.9285714285714285,
          0.5,
          null,
          0.3333333333333333,
          0.5,
          null,
          0.047619047619047616,
          0.5,
          null,
          0.6190476190476191,
          0.5,
          null,
          0.5238095238095237,
          0.5,
          null,
          0.16666666666666666,
          0.5,
          null,
          0.23809523809523808,
          0.5,
          null,
          0.07142857142857142,
          0.5,
          null,
          0.21428571428571427,
          0.5,
          null,
          0.09523809523809523,
          0.5,
          null,
          0.30952380952380953,
          0.5,
          null,
          0.5,
          0.5,
          null,
          0.3571428571428571,
          0.5,
          null,
          0.5476190476190476,
          0.5,
          null,
          0.023809523809523808,
          0.5,
          null,
          0.9523809523809523,
          0.5,
          null,
          0.6428571428571428,
          0.5,
          null,
          0.6904761904761905,
          0.5,
          null,
          0.8333333333333333,
          0.5,
          null,
          0.8571428571428571,
          0.5,
          null,
          0.738095238095238,
          0.5,
          null,
          0.2857142857142857,
          0.5,
          null,
          0.5,
          0.8809523809523809,
          null,
          0.5,
          0.9047619047619047,
          null,
          0.5,
          0.40476190476190477,
          null,
          0.5,
          0.5714285714285714,
          null,
          0.5,
          0.19047619047619047,
          null,
          0.5,
          0.11904761904761904,
          null,
          0.5,
          0.9761904761904762,
          null,
          0.5,
          0.5952380952380952,
          null,
          0.5,
          0.3333333333333333,
          null,
          0.5,
          0.7142857142857142,
          null,
          0.5,
          0.5,
          null,
          0.5,
          0.14285714285714285,
          null,
          0.5,
          0.8095238095238095,
          null,
          0.5,
          0.26190476190476186,
          null,
          0.5,
          0.7619047619047619,
          null,
          0.5,
          0.42857142857142855,
          null
         ],
         "y": [
          1,
          0.75,
          null,
          0.25,
          0.5,
          null,
          0.25,
          0.5,
          null,
          0.25,
          0.5,
          null,
          0.25,
          0.5,
          null,
          0.25,
          0.5,
          null,
          0.25,
          0.5,
          null,
          1,
          0.75,
          null,
          0.25,
          0.5,
          null,
          0.25,
          0.5,
          null,
          0.25,
          0.5,
          null,
          0.25,
          0.5,
          null,
          0.25,
          0.5,
          null,
          0.25,
          0.5,
          null,
          0.25,
          0.5,
          null,
          0.25,
          0.5,
          null,
          0.25,
          0.5,
          null,
          0.25,
          0.5,
          null,
          0.25,
          0.5,
          null,
          0.25,
          0.5,
          null,
          0.25,
          0.5,
          null,
          0.25,
          0.5,
          null,
          0.25,
          0.5,
          null,
          0.25,
          0.5,
          null,
          0.25,
          0.5,
          null,
          0.25,
          0.5,
          null,
          0.25,
          0.5,
          null,
          0.25,
          0.5,
          null,
          0.5,
          0.25,
          null,
          0.5,
          0.25,
          null,
          0.5,
          0.25,
          null,
          0.5,
          0.25,
          null,
          0.5,
          0.25,
          null,
          0.5,
          0.25,
          null,
          0.5,
          0.25,
          null,
          0.5,
          0.25,
          null,
          0.5,
          0.25,
          null,
          0.5,
          0.25,
          null,
          0.5,
          0.75,
          null,
          0.5,
          0.25,
          null,
          0.5,
          0.25,
          null,
          0.5,
          0.25,
          null,
          0.5,
          0.25,
          null,
          0.5,
          0.25,
          null
         ]
        },
        {
         "hoverinfo": "text",
         "marker": {
          "color": [
           -2,
           1,
           1,
           1,
           1,
           1,
           1,
           -2,
           1,
           1,
           1,
           1,
           1,
           1,
           1,
           1,
           1,
           1,
           1,
           1,
           1,
           1,
           1,
           1,
           1,
           1,
           1,
           1,
           0,
           1,
           1,
           1,
           1,
           1,
           1,
           1,
           1,
           1,
           1,
           -1,
           1,
           1,
           1,
           1,
           1
          ],
          "colorscale": "Viridis",
          "line": {
           "width": 2
          },
          "reversescale": true,
          "size": 10
         },
         "mode": "markers",
         "text": [
          "signaling receptor activity",
          "G-protein coupled olfactory receptor activity",
          "cannabinoid receptor activity",
          "G-protein coupled peptide receptor activity",
          "gonadotropin-releasing hormone receptor activity",
          "melatonin receptor activity",
          "G-protein coupled glucose receptor activity",
          "transmembrane receptor activity",
          "G-protein coupled bile acid receptor activity",
          "GPCR taste receptor activity",
          "G-protein coupled adenosine receptor activity",
          "G-protein coupled nucleotide receptor activity",
          "G-protein coupled cytokinin receptor activity",
          "cAMP receptor activity",
          "growth hormone-releasing hormone receptor activity",
          "corticotrophin-releasing factor receptor activity",
          "platelet activating factor receptor activity",
          "pheromone receptor activity",
          "melanin-concentrating hormone receptor activity",
          "thyroid-stimulating hormone receptor activity",
          "thyrotropin-releasing hormone receptor activity",
          "G-protein coupled photoreceptor activity",
          "G-protein coupled neurotransmitter receptor activity",
          "pituitary adenylate cyclase-activating polypeptide receptor activity",
          "parathyroid hormone receptor activity",
          "nicotinic acid receptor activity",
          "secretin receptor activity",
          "ecdysis-triggering hormone receptor activity",
          "G-protein coupled receptor activity<br>Combining with an extracellular signal and transmitting the signal across the membrane by activating an associated G-protein; promotes the exchange of GDP for GTP on the alpha subunit of a heterotrimeric G-protein complex.",
          "dopamine neurotransmitter receptor activity",
          "icosanoid receptor activity",
          "growth hormone secretagogue receptor activity",
          "vasoactive intestinal polypeptide receptor activity",
          "G-protein coupled folate receptor activity",
          "G-protein coupled receptor activity involved in regulation of postsynaptic membrane potential",
          "prosaposin receptor activity",
          "gastric inhibitory peptide receptor activity",
          "mast cell secretagogue receptor activity",
          "G-protein coupled glutamate receptor activity",
          "transmembrane signaling receptor activity",
          "G-protein coupled amine receptor activity",
          "luteinizing hormone receptor activity",
          "bioactive lipid receptor activity",
          "G-protein coupled estrogen receptor activity",
          "choriogonadotropin hormone receptor activity"
         ],
         "type": "scatter",
         "x": [
          0.6666666666666666,
          0.7857142857142857,
          0.47619047619047616,
          0.38095238095238093,
          0.6666666666666666,
          0.45238095238095233,
          0.9285714285714285,
          0.3333333333333333,
          0.047619047619047616,
          0.6190476190476191,
          0.5238095238095237,
          0.16666666666666666,
          0.23809523809523808,
          0.07142857142857142,
          0.21428571428571427,
          0.09523809523809523,
          0.30952380952380953,
          0.5,
          0.3571428571428571,
          0.5476190476190476,
          0.023809523809523808,
          0.9523809523809523,
          0.6428571428571428,
          0.6904761904761905,
          0.8333333333333333,
          0.8571428571428571,
          0.738095238095238,
          0.2857142857142857,
          0.5,
          0.9047619047619047,
          0.40476190476190477,
          0.5714285714285714,
          0.19047619047619047,
          0.8809523809523809,
          0.11904761904761904,
          0.9761904761904762,
          0.5952380952380952,
          0.3333333333333333,
          0.7142857142857142,
          0.5,
          0.14285714285714285,
          0.8095238095238095,
          0.26190476190476186,
          0.7619047619047619,
          0.42857142857142855
         ],
         "y": [
          1,
          0.25,
          0.25,
          0.25,
          0.25,
          0.25,
          0.25,
          1,
          0.25,
          0.25,
          0.25,
          0.25,
          0.25,
          0.25,
          0.25,
          0.25,
          0.25,
          0.25,
          0.25,
          0.25,
          0.25,
          0.25,
          0.25,
          0.25,
          0.25,
          0.25,
          0.25,
          0.25,
          0.5,
          0.25,
          0.25,
          0.25,
          0.25,
          0.25,
          0.25,
          0.25,
          0.25,
          0.25,
          0.25,
          0.75,
          0.25,
          0.25,
          0.25,
          0.25,
          0.25
         ]
        }
       ],
       "layout": {
        "annotations": [],
        "hovermode": "closest",
        "margin": {
         "b": 20,
         "l": 5,
         "r": 5,
         "t": 50
        },
        "showlegend": false,
        "title": "<br>Network of related terms in Gene Ontology",
        "titlefont": {
         "size": 16
        },
        "xaxis": {
         "showgrid": false,
         "showticklabels": false,
         "zeroline": false
        },
        "yaxis": {
         "showgrid": false,
         "showticklabels": false,
         "zeroline": false
        }
       }
      },
      "text/html": [
       "<div id=\"0374afa6-3eb6-4dde-8e49-daa3933f5189\" style=\"height: 525px; width: 100%;\" class=\"plotly-graph-div\"></div><script type=\"text/javascript\">require([\"plotly\"], function(Plotly) { window.PLOTLYENV=window.PLOTLYENV || {};window.PLOTLYENV.BASE_URL=\"https://plot.ly\";Plotly.newPlot(\"0374afa6-3eb6-4dde-8e49-daa3933f5189\", [{\"mode\": \"lines\", \"hoverinfo\": \"none\", \"y\": [1.0, 0.75, null, 0.25, 0.5, null, 0.25, 0.5, null, 0.25, 0.5, null, 0.25, 0.5, null, 0.25, 0.5, null, 0.25, 0.5, null, 1.0, 0.75, null, 0.25, 0.5, null, 0.25, 0.5, null, 0.25, 0.5, null, 0.25, 0.5, null, 0.25, 0.5, null, 0.25, 0.5, null, 0.25, 0.5, null, 0.25, 0.5, null, 0.25, 0.5, null, 0.25, 0.5, null, 0.25, 0.5, null, 0.25, 0.5, null, 0.25, 0.5, null, 0.25, 0.5, null, 0.25, 0.5, null, 0.25, 0.5, null, 0.25, 0.5, null, 0.25, 0.5, null, 0.25, 0.5, null, 0.25, 0.5, null, 0.5, 0.25, null, 0.5, 0.25, null, 0.5, 0.25, null, 0.5, 0.25, null, 0.5, 0.25, null, 0.5, 0.25, null, 0.5, 0.25, null, 0.5, 0.25, null, 0.5, 0.25, null, 0.5, 0.25, null, 0.5, 0.75, null, 0.5, 0.25, null, 0.5, 0.25, null, 0.5, 0.25, null, 0.5, 0.25, null, 0.5, 0.25, null], \"x\": [0.6666666666666666, 0.5, null, 0.7857142857142857, 0.5, null, 0.47619047619047616, 0.5, null, 0.38095238095238093, 0.5, null, 0.6666666666666666, 0.5, null, 0.45238095238095233, 0.5, null, 0.9285714285714285, 0.5, null, 0.3333333333333333, 0.5, null, 0.047619047619047616, 0.5, null, 0.6190476190476191, 0.5, null, 0.5238095238095237, 0.5, null, 0.16666666666666666, 0.5, null, 0.23809523809523808, 0.5, null, 0.07142857142857142, 0.5, null, 0.21428571428571427, 0.5, null, 0.09523809523809523, 0.5, null, 0.30952380952380953, 0.5, null, 0.5, 0.5, null, 0.3571428571428571, 0.5, null, 0.5476190476190476, 0.5, null, 0.023809523809523808, 0.5, null, 0.9523809523809523, 0.5, null, 0.6428571428571428, 0.5, null, 0.6904761904761905, 0.5, null, 0.8333333333333333, 0.5, null, 0.8571428571428571, 0.5, null, 0.738095238095238, 0.5, null, 0.2857142857142857, 0.5, null, 0.5, 0.8809523809523809, null, 0.5, 0.9047619047619047, null, 0.5, 0.40476190476190477, null, 0.5, 0.5714285714285714, null, 0.5, 0.19047619047619047, null, 0.5, 0.11904761904761904, null, 0.5, 0.9761904761904762, null, 0.5, 0.5952380952380952, null, 0.5, 0.3333333333333333, null, 0.5, 0.7142857142857142, null, 0.5, 0.5, null, 0.5, 0.14285714285714285, null, 0.5, 0.8095238095238095, null, 0.5, 0.26190476190476186, null, 0.5, 0.7619047619047619, null, 0.5, 0.42857142857142855, null], \"line\": {\"color\": \"#888\", \"width\": 0.5}, \"type\": \"scatter\"}, {\"text\": [\"signaling receptor activity\", \"G-protein coupled olfactory receptor activity\", \"cannabinoid receptor activity\", \"G-protein coupled peptide receptor activity\", \"gonadotropin-releasing hormone receptor activity\", \"melatonin receptor activity\", \"G-protein coupled glucose receptor activity\", \"transmembrane receptor activity\", \"G-protein coupled bile acid receptor activity\", \"GPCR taste receptor activity\", \"G-protein coupled adenosine receptor activity\", \"G-protein coupled nucleotide receptor activity\", \"G-protein coupled cytokinin receptor activity\", \"cAMP receptor activity\", \"growth hormone-releasing hormone receptor activity\", \"corticotrophin-releasing factor receptor activity\", \"platelet activating factor receptor activity\", \"pheromone receptor activity\", \"melanin-concentrating hormone receptor activity\", \"thyroid-stimulating hormone receptor activity\", \"thyrotropin-releasing hormone receptor activity\", \"G-protein coupled photoreceptor activity\", \"G-protein coupled neurotransmitter receptor activity\", \"pituitary adenylate cyclase-activating polypeptide receptor activity\", \"parathyroid hormone receptor activity\", \"nicotinic acid receptor activity\", \"secretin receptor activity\", \"ecdysis-triggering hormone receptor activity\", \"G-protein coupled receptor activity<br>Combining with an extracellular signal and transmitting the signal across the membrane by activating an associated G-protein; promotes the exchange of GDP for GTP on the alpha subunit of a heterotrimeric G-protein complex.\", \"dopamine neurotransmitter receptor activity\", \"icosanoid receptor activity\", \"growth hormone secretagogue receptor activity\", \"vasoactive intestinal polypeptide receptor activity\", \"G-protein coupled folate receptor activity\", \"G-protein coupled receptor activity involved in regulation of postsynaptic membrane potential\", \"prosaposin receptor activity\", \"gastric inhibitory peptide receptor activity\", \"mast cell secretagogue receptor activity\", \"G-protein coupled glutamate receptor activity\", \"transmembrane signaling receptor activity\", \"G-protein coupled amine receptor activity\", \"luteinizing hormone receptor activity\", \"bioactive lipid receptor activity\", \"G-protein coupled estrogen receptor activity\", \"choriogonadotropin hormone receptor activity\"], \"marker\": {\"color\": [-2, 1, 1, 1, 1, 1, 1, -2, 1, 1, 1, 1, 1, 1, 1, 1, 1, 1, 1, 1, 1, 1, 1, 1, 1, 1, 1, 1, 0, 1, 1, 1, 1, 1, 1, 1, 1, 1, 1, -1, 1, 1, 1, 1, 1], \"reversescale\": true, \"line\": {\"width\": 2}, \"colorscale\": \"Viridis\", \"size\": 10}, \"mode\": \"markers\", \"hoverinfo\": \"text\", \"y\": [1.0, 0.25, 0.25, 0.25, 0.25, 0.25, 0.25, 1.0, 0.25, 0.25, 0.25, 0.25, 0.25, 0.25, 0.25, 0.25, 0.25, 0.25, 0.25, 0.25, 0.25, 0.25, 0.25, 0.25, 0.25, 0.25, 0.25, 0.25, 0.5, 0.25, 0.25, 0.25, 0.25, 0.25, 0.25, 0.25, 0.25, 0.25, 0.25, 0.75, 0.25, 0.25, 0.25, 0.25, 0.25], \"x\": [0.6666666666666666, 0.7857142857142857, 0.47619047619047616, 0.38095238095238093, 0.6666666666666666, 0.45238095238095233, 0.9285714285714285, 0.3333333333333333, 0.047619047619047616, 0.6190476190476191, 0.5238095238095237, 0.16666666666666666, 0.23809523809523808, 0.07142857142857142, 0.21428571428571427, 0.09523809523809523, 0.30952380952380953, 0.5, 0.3571428571428571, 0.5476190476190476, 0.023809523809523808, 0.9523809523809523, 0.6428571428571428, 0.6904761904761905, 0.8333333333333333, 0.8571428571428571, 0.738095238095238, 0.2857142857142857, 0.5, 0.9047619047619047, 0.40476190476190477, 0.5714285714285714, 0.19047619047619047, 0.8809523809523809, 0.11904761904761904, 0.9761904761904762, 0.5952380952380952, 0.3333333333333333, 0.7142857142857142, 0.5, 0.14285714285714285, 0.8095238095238095, 0.26190476190476186, 0.7619047619047619, 0.42857142857142855], \"type\": \"scatter\"}], {\"showlegend\": false, \"yaxis\": {\"zeroline\": false, \"showticklabels\": false, \"showgrid\": false}, \"title\": \"<br>Network of related terms in Gene Ontology\", \"titlefont\": {\"size\": 16}, \"xaxis\": {\"zeroline\": false, \"showticklabels\": false, \"showgrid\": false}, \"hovermode\": \"closest\", \"margin\": {\"r\": 5, \"b\": 20, \"t\": 50, \"l\": 5}, \"annotations\": []}, {\"linkText\": \"Export to plot.ly\", \"showLink\": true})});</script>"
      ],
      "text/vnd.plotly.v1+html": [
       "<div id=\"0374afa6-3eb6-4dde-8e49-daa3933f5189\" style=\"height: 525px; width: 100%;\" class=\"plotly-graph-div\"></div><script type=\"text/javascript\">require([\"plotly\"], function(Plotly) { window.PLOTLYENV=window.PLOTLYENV || {};window.PLOTLYENV.BASE_URL=\"https://plot.ly\";Plotly.newPlot(\"0374afa6-3eb6-4dde-8e49-daa3933f5189\", [{\"mode\": \"lines\", \"hoverinfo\": \"none\", \"y\": [1.0, 0.75, null, 0.25, 0.5, null, 0.25, 0.5, null, 0.25, 0.5, null, 0.25, 0.5, null, 0.25, 0.5, null, 0.25, 0.5, null, 1.0, 0.75, null, 0.25, 0.5, null, 0.25, 0.5, null, 0.25, 0.5, null, 0.25, 0.5, null, 0.25, 0.5, null, 0.25, 0.5, null, 0.25, 0.5, null, 0.25, 0.5, null, 0.25, 0.5, null, 0.25, 0.5, null, 0.25, 0.5, null, 0.25, 0.5, null, 0.25, 0.5, null, 0.25, 0.5, null, 0.25, 0.5, null, 0.25, 0.5, null, 0.25, 0.5, null, 0.25, 0.5, null, 0.25, 0.5, null, 0.25, 0.5, null, 0.5, 0.25, null, 0.5, 0.25, null, 0.5, 0.25, null, 0.5, 0.25, null, 0.5, 0.25, null, 0.5, 0.25, null, 0.5, 0.25, null, 0.5, 0.25, null, 0.5, 0.25, null, 0.5, 0.25, null, 0.5, 0.75, null, 0.5, 0.25, null, 0.5, 0.25, null, 0.5, 0.25, null, 0.5, 0.25, null, 0.5, 0.25, null], \"x\": [0.6666666666666666, 0.5, null, 0.7857142857142857, 0.5, null, 0.47619047619047616, 0.5, null, 0.38095238095238093, 0.5, null, 0.6666666666666666, 0.5, null, 0.45238095238095233, 0.5, null, 0.9285714285714285, 0.5, null, 0.3333333333333333, 0.5, null, 0.047619047619047616, 0.5, null, 0.6190476190476191, 0.5, null, 0.5238095238095237, 0.5, null, 0.16666666666666666, 0.5, null, 0.23809523809523808, 0.5, null, 0.07142857142857142, 0.5, null, 0.21428571428571427, 0.5, null, 0.09523809523809523, 0.5, null, 0.30952380952380953, 0.5, null, 0.5, 0.5, null, 0.3571428571428571, 0.5, null, 0.5476190476190476, 0.5, null, 0.023809523809523808, 0.5, null, 0.9523809523809523, 0.5, null, 0.6428571428571428, 0.5, null, 0.6904761904761905, 0.5, null, 0.8333333333333333, 0.5, null, 0.8571428571428571, 0.5, null, 0.738095238095238, 0.5, null, 0.2857142857142857, 0.5, null, 0.5, 0.8809523809523809, null, 0.5, 0.9047619047619047, null, 0.5, 0.40476190476190477, null, 0.5, 0.5714285714285714, null, 0.5, 0.19047619047619047, null, 0.5, 0.11904761904761904, null, 0.5, 0.9761904761904762, null, 0.5, 0.5952380952380952, null, 0.5, 0.3333333333333333, null, 0.5, 0.7142857142857142, null, 0.5, 0.5, null, 0.5, 0.14285714285714285, null, 0.5, 0.8095238095238095, null, 0.5, 0.26190476190476186, null, 0.5, 0.7619047619047619, null, 0.5, 0.42857142857142855, null], \"line\": {\"color\": \"#888\", \"width\": 0.5}, \"type\": \"scatter\"}, {\"text\": [\"signaling receptor activity\", \"G-protein coupled olfactory receptor activity\", \"cannabinoid receptor activity\", \"G-protein coupled peptide receptor activity\", \"gonadotropin-releasing hormone receptor activity\", \"melatonin receptor activity\", \"G-protein coupled glucose receptor activity\", \"transmembrane receptor activity\", \"G-protein coupled bile acid receptor activity\", \"GPCR taste receptor activity\", \"G-protein coupled adenosine receptor activity\", \"G-protein coupled nucleotide receptor activity\", \"G-protein coupled cytokinin receptor activity\", \"cAMP receptor activity\", \"growth hormone-releasing hormone receptor activity\", \"corticotrophin-releasing factor receptor activity\", \"platelet activating factor receptor activity\", \"pheromone receptor activity\", \"melanin-concentrating hormone receptor activity\", \"thyroid-stimulating hormone receptor activity\", \"thyrotropin-releasing hormone receptor activity\", \"G-protein coupled photoreceptor activity\", \"G-protein coupled neurotransmitter receptor activity\", \"pituitary adenylate cyclase-activating polypeptide receptor activity\", \"parathyroid hormone receptor activity\", \"nicotinic acid receptor activity\", \"secretin receptor activity\", \"ecdysis-triggering hormone receptor activity\", \"G-protein coupled receptor activity<br>Combining with an extracellular signal and transmitting the signal across the membrane by activating an associated G-protein; promotes the exchange of GDP for GTP on the alpha subunit of a heterotrimeric G-protein complex.\", \"dopamine neurotransmitter receptor activity\", \"icosanoid receptor activity\", \"growth hormone secretagogue receptor activity\", \"vasoactive intestinal polypeptide receptor activity\", \"G-protein coupled folate receptor activity\", \"G-protein coupled receptor activity involved in regulation of postsynaptic membrane potential\", \"prosaposin receptor activity\", \"gastric inhibitory peptide receptor activity\", \"mast cell secretagogue receptor activity\", \"G-protein coupled glutamate receptor activity\", \"transmembrane signaling receptor activity\", \"G-protein coupled amine receptor activity\", \"luteinizing hormone receptor activity\", \"bioactive lipid receptor activity\", \"G-protein coupled estrogen receptor activity\", \"choriogonadotropin hormone receptor activity\"], \"marker\": {\"color\": [-2, 1, 1, 1, 1, 1, 1, -2, 1, 1, 1, 1, 1, 1, 1, 1, 1, 1, 1, 1, 1, 1, 1, 1, 1, 1, 1, 1, 0, 1, 1, 1, 1, 1, 1, 1, 1, 1, 1, -1, 1, 1, 1, 1, 1], \"reversescale\": true, \"line\": {\"width\": 2}, \"colorscale\": \"Viridis\", \"size\": 10}, \"mode\": \"markers\", \"hoverinfo\": \"text\", \"y\": [1.0, 0.25, 0.25, 0.25, 0.25, 0.25, 0.25, 1.0, 0.25, 0.25, 0.25, 0.25, 0.25, 0.25, 0.25, 0.25, 0.25, 0.25, 0.25, 0.25, 0.25, 0.25, 0.25, 0.25, 0.25, 0.25, 0.25, 0.25, 0.5, 0.25, 0.25, 0.25, 0.25, 0.25, 0.25, 0.25, 0.25, 0.25, 0.25, 0.75, 0.25, 0.25, 0.25, 0.25, 0.25], \"x\": [0.6666666666666666, 0.7857142857142857, 0.47619047619047616, 0.38095238095238093, 0.6666666666666666, 0.45238095238095233, 0.9285714285714285, 0.3333333333333333, 0.047619047619047616, 0.6190476190476191, 0.5238095238095237, 0.16666666666666666, 0.23809523809523808, 0.07142857142857142, 0.21428571428571427, 0.09523809523809523, 0.30952380952380953, 0.5, 0.3571428571428571, 0.5476190476190476, 0.023809523809523808, 0.9523809523809523, 0.6428571428571428, 0.6904761904761905, 0.8333333333333333, 0.8571428571428571, 0.738095238095238, 0.2857142857142857, 0.5, 0.9047619047619047, 0.40476190476190477, 0.5714285714285714, 0.19047619047619047, 0.8809523809523809, 0.11904761904761904, 0.9761904761904762, 0.5952380952380952, 0.3333333333333333, 0.7142857142857142, 0.5, 0.14285714285714285, 0.8095238095238095, 0.26190476190476186, 0.7619047619047619, 0.42857142857142855], \"type\": \"scatter\"}], {\"showlegend\": false, \"yaxis\": {\"zeroline\": false, \"showticklabels\": false, \"showgrid\": false}, \"title\": \"<br>Network of related terms in Gene Ontology\", \"titlefont\": {\"size\": 16}, \"xaxis\": {\"zeroline\": false, \"showticklabels\": false, \"showgrid\": false}, \"hovermode\": \"closest\", \"margin\": {\"r\": 5, \"b\": 20, \"t\": 50, \"l\": 5}, \"annotations\": []}, {\"linkText\": \"Export to plot.ly\", \"showLink\": true})});</script>"
      ]
     },
     "metadata": {},
     "output_type": "display_data"
    }
   ],
   "source": [
    "try:\n",
    "    visualize_go_term(graphs.next())\n",
    "except StopIteration:\n",
    "    print \"end of list.\""
   ]
  },
  {
   "cell_type": "code",
   "execution_count": null,
   "metadata": {
    "collapsed": true
   },
   "outputs": [],
   "source": []
  },
  {
   "cell_type": "code",
   "execution_count": null,
   "metadata": {
    "collapsed": true
   },
   "outputs": [],
   "source": []
  }
 ],
 "metadata": {
  "kernelspec": {
   "display_name": "Python 2",
   "language": "python",
   "name": "python2"
  },
  "language_info": {
   "codemirror_mode": {
    "name": "ipython",
    "version": 2
   },
   "file_extension": ".py",
   "mimetype": "text/x-python",
   "name": "python",
   "nbconvert_exporter": "python",
   "pygments_lexer": "ipython2",
   "version": "2.7.12"
  }
 },
 "nbformat": 4,
 "nbformat_minor": 0
}
